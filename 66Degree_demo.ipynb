{
  "nbformat": 4,
  "nbformat_minor": 0,
  "metadata": {
    "colab": {
      "provenance": [],
      "authorship_tag": "ABX9TyNfFPVUE3FKaHamKkYWZFYA",
      "include_colab_link": true
    },
    "kernelspec": {
      "name": "python3",
      "display_name": "Python 3"
    },
    "language_info": {
      "name": "python"
    }
  },
  "cells": [
    {
      "cell_type": "markdown",
      "metadata": {
        "id": "view-in-github",
        "colab_type": "text"
      },
      "source": [
        "<a href=\"https://colab.research.google.com/github/move-coop/api/blob/master/66Degree_demo.ipynb\" target=\"_parent\"><img src=\"https://colab.research.google.com/assets/colab-badge.svg\" alt=\"Open In Colab\"/></a>"
      ]
    },
    {
      "cell_type": "markdown",
      "source": [
        "Atnafu Dargaso, Sr. Data Engineer\n",
        "\n",
        "---\n",
        "\n",
        "# Supermarket Sales Data Analysis\n",
        "\n",
        "In this project, I analyze supermarket sales data by performing data extraction, transformation, and loading (ETL) operations. I load the transformed data into an SQLite database, create an analytical report, and visualize the results using Plotly for an interactive presentation.\n",
        "\n",
        "---\n",
        "\n",
        "## Table of Contents\n",
        "1. [Environment Setup and Data Preparation](#section-0)\n",
        "2. [Data Extraction, Transformation, and Loading (ETL)](#section-1)\n",
        "3. [SQL Table Creation](#section-2)\n",
        "4. [Report Generation](#section-3)\n",
        "5. [Visualization with Plotly](#section-4)\n",
        "\n",
        "---\n",
        "\n",
        "<a id=\"section-0\"></a>\n",
        "## 1. Environment Setup and Data Preparation\n",
        "\n",
        "### Description\n",
        "To execute this project in Google Colab, I first install necessary libraries and download the dataset from Kaggle. This setup includes configuring the Kaggle API to enable access to the dataset.\n",
        "\n",
        "### Prerequisites\n",
        "For this setup, I run the following code to install and configure the Kaggle API, download the dataset, and prepare it for analysis in Colab. After running these commands, the dataset is saved as `supermarket_sales.csv` and ready for further processing."
      ],
      "metadata": {
        "id": "oOdM1kr9a0uN"
      }
    },
    {
      "cell_type": "code",
      "source": [
        "# Install required libraries\n",
        "!pip install kaggle pandas plotly\n",
        "\n",
        "# Upload kaggle.json for API access\n",
        "from google.colab import files\n",
        "files.upload()\n",
        "\n",
        "# Configure Kaggle API\n",
        "!mkdir -p ~/.kaggle\n",
        "!mv kaggle.json ~/.kaggle/\n",
        "!chmod 600 ~/.kaggle/kaggle.json\n",
        "\n",
        "# Download the dataset from Kaggle\n",
        "!kaggle datasets download -d aungpyaeap/supermarket-sales -p /content\n",
        "!unzip -o /content/supermarket-sales.zip -d /content\n",
        "!mv /content/supermarket_sales*.csv /content/supermarket_sales.csv"
      ],
      "metadata": {
        "colab": {
          "base_uri": "https://localhost:8080/",
          "height": 385
        },
        "id": "986nXLysctsb",
        "outputId": "d5468e3b-ddb8-4c21-ecb9-493b631cea0b"
      },
      "execution_count": null,
      "outputs": [
        {
          "output_type": "stream",
          "name": "stdout",
          "text": [
            "Requirement already satisfied: kaggle in /usr/local/lib/python3.10/dist-packages (1.6.17)\n",
            "Requirement already satisfied: pandas in /usr/local/lib/python3.10/dist-packages (2.2.2)\n",
            "Requirement already satisfied: plotly in /usr/local/lib/python3.10/dist-packages (5.24.1)\n",
            "Requirement already satisfied: six>=1.10 in /usr/local/lib/python3.10/dist-packages (from kaggle) (1.16.0)\n",
            "Requirement already satisfied: certifi>=2023.7.22 in /usr/local/lib/python3.10/dist-packages (from kaggle) (2024.8.30)\n",
            "Requirement already satisfied: python-dateutil in /usr/local/lib/python3.10/dist-packages (from kaggle) (2.8.2)\n",
            "Requirement already satisfied: requests in /usr/local/lib/python3.10/dist-packages (from kaggle) (2.32.3)\n",
            "Requirement already satisfied: tqdm in /usr/local/lib/python3.10/dist-packages (from kaggle) (4.66.6)\n",
            "Requirement already satisfied: python-slugify in /usr/local/lib/python3.10/dist-packages (from kaggle) (8.0.4)\n",
            "Requirement already satisfied: urllib3 in /usr/local/lib/python3.10/dist-packages (from kaggle) (2.2.3)\n",
            "Requirement already satisfied: bleach in /usr/local/lib/python3.10/dist-packages (from kaggle) (6.2.0)\n",
            "Requirement already satisfied: numpy>=1.22.4 in /usr/local/lib/python3.10/dist-packages (from pandas) (1.26.4)\n",
            "Requirement already satisfied: pytz>=2020.1 in /usr/local/lib/python3.10/dist-packages (from pandas) (2024.2)\n",
            "Requirement already satisfied: tzdata>=2022.7 in /usr/local/lib/python3.10/dist-packages (from pandas) (2024.2)\n",
            "Requirement already satisfied: tenacity>=6.2.0 in /usr/local/lib/python3.10/dist-packages (from plotly) (9.0.0)\n",
            "Requirement already satisfied: packaging in /usr/local/lib/python3.10/dist-packages (from plotly) (24.1)\n",
            "Requirement already satisfied: webencodings in /usr/local/lib/python3.10/dist-packages (from bleach->kaggle) (0.5.1)\n",
            "Requirement already satisfied: text-unidecode>=1.3 in /usr/local/lib/python3.10/dist-packages (from python-slugify->kaggle) (1.3)\n",
            "Requirement already satisfied: charset-normalizer<4,>=2 in /usr/local/lib/python3.10/dist-packages (from requests->kaggle) (3.4.0)\n",
            "Requirement already satisfied: idna<4,>=2.5 in /usr/local/lib/python3.10/dist-packages (from requests->kaggle) (3.10)\n"
          ]
        },
        {
          "output_type": "display_data",
          "data": {
            "text/plain": [
              "<IPython.core.display.HTML object>"
            ],
            "text/html": [
              "\n",
              "     <input type=\"file\" id=\"files-87a97606-cca7-4cde-9577-4d5958c77b16\" name=\"files[]\" multiple disabled\n",
              "        style=\"border:none\" />\n",
              "     <output id=\"result-87a97606-cca7-4cde-9577-4d5958c77b16\">\n",
              "      Upload widget is only available when the cell has been executed in the\n",
              "      current browser session. Please rerun this cell to enable.\n",
              "      </output>\n",
              "      <script>// Copyright 2017 Google LLC\n",
              "//\n",
              "// Licensed under the Apache License, Version 2.0 (the \"License\");\n",
              "// you may not use this file except in compliance with the License.\n",
              "// You may obtain a copy of the License at\n",
              "//\n",
              "//      http://www.apache.org/licenses/LICENSE-2.0\n",
              "//\n",
              "// Unless required by applicable law or agreed to in writing, software\n",
              "// distributed under the License is distributed on an \"AS IS\" BASIS,\n",
              "// WITHOUT WARRANTIES OR CONDITIONS OF ANY KIND, either express or implied.\n",
              "// See the License for the specific language governing permissions and\n",
              "// limitations under the License.\n",
              "\n",
              "/**\n",
              " * @fileoverview Helpers for google.colab Python module.\n",
              " */\n",
              "(function(scope) {\n",
              "function span(text, styleAttributes = {}) {\n",
              "  const element = document.createElement('span');\n",
              "  element.textContent = text;\n",
              "  for (const key of Object.keys(styleAttributes)) {\n",
              "    element.style[key] = styleAttributes[key];\n",
              "  }\n",
              "  return element;\n",
              "}\n",
              "\n",
              "// Max number of bytes which will be uploaded at a time.\n",
              "const MAX_PAYLOAD_SIZE = 100 * 1024;\n",
              "\n",
              "function _uploadFiles(inputId, outputId) {\n",
              "  const steps = uploadFilesStep(inputId, outputId);\n",
              "  const outputElement = document.getElementById(outputId);\n",
              "  // Cache steps on the outputElement to make it available for the next call\n",
              "  // to uploadFilesContinue from Python.\n",
              "  outputElement.steps = steps;\n",
              "\n",
              "  return _uploadFilesContinue(outputId);\n",
              "}\n",
              "\n",
              "// This is roughly an async generator (not supported in the browser yet),\n",
              "// where there are multiple asynchronous steps and the Python side is going\n",
              "// to poll for completion of each step.\n",
              "// This uses a Promise to block the python side on completion of each step,\n",
              "// then passes the result of the previous step as the input to the next step.\n",
              "function _uploadFilesContinue(outputId) {\n",
              "  const outputElement = document.getElementById(outputId);\n",
              "  const steps = outputElement.steps;\n",
              "\n",
              "  const next = steps.next(outputElement.lastPromiseValue);\n",
              "  return Promise.resolve(next.value.promise).then((value) => {\n",
              "    // Cache the last promise value to make it available to the next\n",
              "    // step of the generator.\n",
              "    outputElement.lastPromiseValue = value;\n",
              "    return next.value.response;\n",
              "  });\n",
              "}\n",
              "\n",
              "/**\n",
              " * Generator function which is called between each async step of the upload\n",
              " * process.\n",
              " * @param {string} inputId Element ID of the input file picker element.\n",
              " * @param {string} outputId Element ID of the output display.\n",
              " * @return {!Iterable<!Object>} Iterable of next steps.\n",
              " */\n",
              "function* uploadFilesStep(inputId, outputId) {\n",
              "  const inputElement = document.getElementById(inputId);\n",
              "  inputElement.disabled = false;\n",
              "\n",
              "  const outputElement = document.getElementById(outputId);\n",
              "  outputElement.innerHTML = '';\n",
              "\n",
              "  const pickedPromise = new Promise((resolve) => {\n",
              "    inputElement.addEventListener('change', (e) => {\n",
              "      resolve(e.target.files);\n",
              "    });\n",
              "  });\n",
              "\n",
              "  const cancel = document.createElement('button');\n",
              "  inputElement.parentElement.appendChild(cancel);\n",
              "  cancel.textContent = 'Cancel upload';\n",
              "  const cancelPromise = new Promise((resolve) => {\n",
              "    cancel.onclick = () => {\n",
              "      resolve(null);\n",
              "    };\n",
              "  });\n",
              "\n",
              "  // Wait for the user to pick the files.\n",
              "  const files = yield {\n",
              "    promise: Promise.race([pickedPromise, cancelPromise]),\n",
              "    response: {\n",
              "      action: 'starting',\n",
              "    }\n",
              "  };\n",
              "\n",
              "  cancel.remove();\n",
              "\n",
              "  // Disable the input element since further picks are not allowed.\n",
              "  inputElement.disabled = true;\n",
              "\n",
              "  if (!files) {\n",
              "    return {\n",
              "      response: {\n",
              "        action: 'complete',\n",
              "      }\n",
              "    };\n",
              "  }\n",
              "\n",
              "  for (const file of files) {\n",
              "    const li = document.createElement('li');\n",
              "    li.append(span(file.name, {fontWeight: 'bold'}));\n",
              "    li.append(span(\n",
              "        `(${file.type || 'n/a'}) - ${file.size} bytes, ` +\n",
              "        `last modified: ${\n",
              "            file.lastModifiedDate ? file.lastModifiedDate.toLocaleDateString() :\n",
              "                                    'n/a'} - `));\n",
              "    const percent = span('0% done');\n",
              "    li.appendChild(percent);\n",
              "\n",
              "    outputElement.appendChild(li);\n",
              "\n",
              "    const fileDataPromise = new Promise((resolve) => {\n",
              "      const reader = new FileReader();\n",
              "      reader.onload = (e) => {\n",
              "        resolve(e.target.result);\n",
              "      };\n",
              "      reader.readAsArrayBuffer(file);\n",
              "    });\n",
              "    // Wait for the data to be ready.\n",
              "    let fileData = yield {\n",
              "      promise: fileDataPromise,\n",
              "      response: {\n",
              "        action: 'continue',\n",
              "      }\n",
              "    };\n",
              "\n",
              "    // Use a chunked sending to avoid message size limits. See b/62115660.\n",
              "    let position = 0;\n",
              "    do {\n",
              "      const length = Math.min(fileData.byteLength - position, MAX_PAYLOAD_SIZE);\n",
              "      const chunk = new Uint8Array(fileData, position, length);\n",
              "      position += length;\n",
              "\n",
              "      const base64 = btoa(String.fromCharCode.apply(null, chunk));\n",
              "      yield {\n",
              "        response: {\n",
              "          action: 'append',\n",
              "          file: file.name,\n",
              "          data: base64,\n",
              "        },\n",
              "      };\n",
              "\n",
              "      let percentDone = fileData.byteLength === 0 ?\n",
              "          100 :\n",
              "          Math.round((position / fileData.byteLength) * 100);\n",
              "      percent.textContent = `${percentDone}% done`;\n",
              "\n",
              "    } while (position < fileData.byteLength);\n",
              "  }\n",
              "\n",
              "  // All done.\n",
              "  yield {\n",
              "    response: {\n",
              "      action: 'complete',\n",
              "    }\n",
              "  };\n",
              "}\n",
              "\n",
              "scope.google = scope.google || {};\n",
              "scope.google.colab = scope.google.colab || {};\n",
              "scope.google.colab._files = {\n",
              "  _uploadFiles,\n",
              "  _uploadFilesContinue,\n",
              "};\n",
              "})(self);\n",
              "</script> "
            ]
          },
          "metadata": {}
        }
      ]
    },
    {
      "cell_type": "markdown",
      "source": [
        "---\n",
        "\n",
        "<a id=\"section-1\"></a>\n",
        "## 2. Data Extraction, Transformation, and Loading (ETL)\n",
        "\n",
        "### Description\n",
        "I load the supermarket sales data and transform it into three structured tables to support efficient analysis. The tables created are:\n",
        "- **Customer Dimension Table**: Contains unique customer information, including ID, gender, and customer type.\n",
        "- **Product Dimension Table**: Contains unique product lines and their unit prices.\n",
        "- **Sales Fact Table**: Contains transactional sales data, including invoice ID, customer ID, product line, quantity, date, total, and rating."
      ],
      "metadata": {
        "id": "nRPc0To-cuDD"
      }
    },
    {
      "cell_type": "code",
      "source": [
        "import pandas as pd\n",
        "import sqlite3\n",
        "\n",
        "# Load the dataset\n",
        "data = pd.read_csv('/content/supermarket_sales.csv')\n",
        "\n",
        "# Create Customer Dimension Table\n",
        "customer_dim = data[['Customer type', 'Gender', 'Customer type']].drop_duplicates()\n",
        "customer_dim.columns = ['customer_id', 'gender', 'customer_type']\n",
        "customer_dim = customer_dim.drop_duplicates(subset='customer_id')\n",
        "\n",
        "# Display Customer Dimension Table\n",
        "print(\"\\nCustomer Dimension Table:\")\n",
        "display(customer_dim)\n",
        "\n",
        "# Create Product Dimension Table\n",
        "product_dim = data[['Product line', 'Unit price']].drop_duplicates()\n",
        "product_dim.columns = ['product_line', 'unit_price']\n",
        "product_dim = product_dim.drop_duplicates(subset='product_line')\n",
        "\n",
        "# Display Product Dimension Table\n",
        "print(\"\\nProduct Dimension Table:\")\n",
        "display(product_dim)\n",
        "\n",
        "# Create Sales Fact Table\n",
        "sales_fact = data[['Invoice ID', 'Customer type', 'Product line', 'Quantity', 'Date', 'Total', 'Rating']]\n",
        "sales_fact.columns = ['invoice_id', 'customer_id', 'product_line', 'quantity', 'date', 'total', 'rating']\n",
        "\n",
        "# Display Sales Fact Table\n",
        "print(\"\\nSales Fact Table:\")\n",
        "display(sales_fact)"
      ],
      "metadata": {
        "id": "GYKZzsZZfIb-"
      },
      "execution_count": null,
      "outputs": []
    },
    {
      "cell_type": "markdown",
      "source": [
        "---\n",
        "\n",
        "<a id=\"section-2\"></a>\n",
        "## 3. SQL Table Creation\n",
        "\n",
        "### Description\n",
        "Using an SQLite in-memory database within Colab, I create tables to store the transformed data. The tables include **Customer**, **Product**, and **Sales** to facilitate efficient querying and reporting.\n",
        "\n"
      ],
      "metadata": {
        "id": "H3wgb9riecLZ"
      }
    },
    {
      "cell_type": "code",
      "source": [
        "\n",
        "# Connect to SQLite (in-memory for testing)\n",
        "conn = sqlite3.connect(':memory:')\n",
        "cursor = conn.cursor()\n",
        "\n",
        "# Create tables\n",
        "cursor.execute('''CREATE TABLE Customer (customer_id TEXT PRIMARY KEY, gender TEXT, customer_type TEXT)''')\n",
        "cursor.execute('''CREATE TABLE Product (product_line TEXT PRIMARY KEY, unit_price REAL)''')\n",
        "cursor.execute('''CREATE TABLE Sales (invoice_id TEXT PRIMARY KEY, customer_id TEXT, product_line TEXT, quantity INTEGER, date TEXT, total REAL, rating REAL)''')\n",
        "\n",
        "# Insert data into tables\n",
        "customer_dim.to_sql('Customer', conn, if_exists='append', index=False)\n",
        "product_dim.to_sql('Product', conn, if_exists='append', index=False)\n",
        "sales_fact.to_sql('Sales', conn, if_exists='append', index=False)"
      ],
      "metadata": {
        "id": "pVCxG2fgd-ss"
      },
      "execution_count": null,
      "outputs": []
    },
    {
      "cell_type": "markdown",
      "source": [
        "\n",
        "\n",
        "---\n",
        "\n",
        "<a id=\"section-3\"></a>\n",
        "## 4. Report Generation\n",
        "\n",
        "### Description\n",
        "I generate an analytical report to analyze total sales and average ratings for each product line. Using SQL, I calculate total sales and average rating per product line and sort the results by total sales in descending order."
      ],
      "metadata": {
        "id": "ld0WDE7rd-7j"
      }
    },
    {
      "cell_type": "code",
      "source": [
        "query = '''\n",
        "    SELECT\n",
        "        P.product_line,\n",
        "        SUM(S.total) AS total_sales,\n",
        "        AVG(S.rating) AS avg_rating\n",
        "    FROM\n",
        "        Sales S\n",
        "        JOIN Product P ON S.product_line = P.product_line\n",
        "    GROUP BY\n",
        "        P.product_line\n",
        "    ORDER BY\n",
        "        total_sales DESC\n",
        "'''\n",
        "\n",
        "# Execute the query and load the result into a DataFrame\n",
        "report = pd.read_sql_query(query, conn)\n",
        "print(\"\\nAnalytical Report:\")\n",
        "display(report)"
      ],
      "metadata": {
        "id": "sW7P0AllgGDd"
      },
      "execution_count": null,
      "outputs": []
    },
    {
      "cell_type": "markdown",
      "source": [
        "\n",
        "\n",
        "---\n",
        "\n",
        "<a id=\"section-4\"></a>\n",
        "## 5. Visualization with Plotly\n",
        "\n",
        "### Description\n",
        "To make the report more interactive and insightful, I use Plotly to create visualizations. These include:\n",
        "- A bar chart showing total sales by product line.\n",
        "- A line chart with markers for the average rating by product line.\n",
        "\n"
      ],
      "metadata": {
        "id": "EMTgo3pRf_0y"
      }
    },
    {
      "cell_type": "code",
      "source": [
        "import plotly.express as px\n",
        "import plotly.graph_objects as go\n",
        "\n",
        "# Bar chart for total sales by product line\n",
        "fig_sales = px.bar(\n",
        "    report,\n",
        "    x='product_line',\n",
        "    y='total_sales',\n",
        "    title='Total Sales by Product Line',\n",
        "    labels={'product_line': 'Product Line', 'total_sales': 'Total Sales'},\n",
        "    text_auto=True\n",
        ")\n",
        "fig_sales.update_layout(xaxis_title='Product Line', yaxis_title='Total Sales')\n",
        "fig_sales.show()\n",
        "\n",
        "# Scatter plot for average rating by product line\n",
        "fig_rating = go.Figure()\n",
        "fig_rating.add_trace(go.Scatter(\n",
        "    x=report['product_line'],\n",
        "    y=report['avg_rating'],\n",
        "    mode='markers+lines',\n",
        "    marker=dict(size=10, color='red'),\n",
        "    name='Average Rating'\n",
        "))\n",
        "fig_rating.update_layout(\n",
        "    title='Average Rating by Product Line',\n",
        "    xaxis_title='Product Line',\n",
        "    yaxis_title='Average Rating',\n",
        "    yaxis=dict(range=[0, 10])  # Assuming rating scale is 0-20\n",
        ")\n",
        "fig_rating.show()"
      ],
      "metadata": {
        "id": "VfhO9qxBgs_q"
      },
      "execution_count": null,
      "outputs": []
    },
    {
      "cell_type": "markdown",
      "source": [
        "\n",
        "\n",
        "---\n",
        "\n",
        "## Closing the Database Connection\n",
        "I close the database connection to free up resources after completing the analysis."
      ],
      "metadata": {
        "id": "hQSOvYBdgaBm"
      }
    },
    {
      "cell_type": "code",
      "source": [
        "# Closing the Connection\n",
        "conn.close()"
      ],
      "metadata": {
        "id": "C6sWXpEahF21"
      },
      "execution_count": null,
      "outputs": []
    },
    {
      "cell_type": "markdown",
      "source": [
        "---\n",
        "\n",
        "## Conclusion\n",
        "In this project, I demonstrate my ability to set up an ETL pipeline, load data into an SQLite database, generate SQL-based analytical reports, and create interactive visualizations in Google Colab. This process provides valuable insights into sales trends and customer preferences, which can help drive business decisions."
      ],
      "metadata": {
        "id": "N_0hrWClhCwp"
      }
    },
    {
      "cell_type": "markdown",
      "source": [
        "### Key Insights\n",
        "- **Top Sellers**:\n",
        "  - \"Food and beverages\" leads in sales ($56,144.84), followed by \"Sports and travel\" and \"Electronic accessories.\"\n",
        "  \n",
        "- **Customer Satisfaction**:\n",
        "  - High ratings for \"Fashion accessories\" (7.03) and \"Health and beauty\" (7.00).\n",
        "  - \"Home and lifestyle\" has the lowest satisfaction rating (6.84).\n",
        "\n",
        "- **Sales vs. Satisfaction**:\n",
        "  - High sales don’t always mean high satisfaction; categories like \"Health and beauty\" have lower sales but strong ratings.\n",
        "\n",
        "### Action Items\n",
        "1. **Invest in High Sellers**: Prioritize \"Food and beverages\" to sustain revenue.\n",
        "2. **Improve \"Home and Lifestyle\"**: Enhance quality or adjust pricing to boost satisfaction.\n",
        "3. **Promote High-Rated Categories**: Market \"Health and beauty\" to leverage customer approval.\n"
      ],
      "metadata": {
        "id": "5TaCdidymtli"
      }
    }
  ]
}